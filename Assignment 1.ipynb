{
 "cells": [
  {
   "cell_type": "markdown",
   "id": "8c3227f2",
   "metadata": {},
   "source": [
    "Assignment 1\n"
   ]
  },
  {
   "cell_type": "markdown",
   "id": "c712a10a",
   "metadata": {},
   "source": [
    "Q1-Values- 'hello', -87.8, 6\n",
    "   Expression-* , - , / , +"
   ]
  },
  {
   "cell_type": "markdown",
   "id": "a0c62ac4",
   "metadata": {},
   "source": [
    "Q2- Difference between string and variable\n",
    "Variables are symbols that contains some data in a programme whereas Strings are data which are generally placed between a single or double quote.\n",
    "eg:- a=(\"hello\") where \"hello\" is a string and 'a' is the variable ."
   ]
  },
  {
   "cell_type": "markdown",
   "id": "94e93c82",
   "metadata": {},
   "source": [
    "Q3- Data types\n",
    "1) String :- any alphabate or nummeric value place in between single or double quote is called a string. such as :- \"hello123\"\n",
    "2) Integer :- the whole number is an integer. such as:- (1020),(555) etc\n",
    "3) Float :- any numeric value having decimal is called as float such as:- (12.05),(89.02) etc."
   ]
  },
  {
   "cell_type": "markdown",
   "id": "d445150b",
   "metadata": {},
   "source": [
    "Q4- An expression is a combination of operator or operands. It is intepreted to produce some other values."
   ]
  },
  {
   "cell_type": "markdown",
   "id": "da81d348",
   "metadata": {},
   "source": [
    "Q5- In expression you will always get a value but in statement it is not neccessary that a statement result in a value.\n",
    "eg:- x=2\n",
    "     y=3\n",
    "     z=x+y (it is type of expression )\n",
    "     \n",
    "     spam=10 \n",
    "     Print(spam)  (is a type of statement)\n",
    "     "
   ]
  },
  {
   "cell_type": "code",
   "execution_count": 1,
   "id": "cf299d40",
   "metadata": {},
   "outputs": [
    {
     "name": "stdout",
     "output_type": "stream",
     "text": [
      "23\n"
     ]
    }
   ],
   "source": [
    "#Q6- \n",
    "bacon = 22\n",
    "print (bacon + 1)\n",
    "#bacon is type of integer."
   ]
  },
  {
   "cell_type": "code",
   "execution_count": 4,
   "id": "1fd9ca08",
   "metadata": {},
   "outputs": [
    {
     "name": "stdout",
     "output_type": "stream",
     "text": [
      "spamspamspam\n",
      "spamspamspam\n"
     ]
    }
   ],
   "source": [
    "#Q7-\n",
    "print('spam'+'spamspam')\n",
    "#spamspamspam\n",
    "\n",
    "print('spam'*3)\n",
    "\n",
    "#spamspamspam\n",
    "\n",
    "#both the code gives the same result.\n"
   ]
  },
  {
   "cell_type": "markdown",
   "id": "4d0e4ad7",
   "metadata": {},
   "source": [
    "#Q8- eggs a valid variable name while 100 is invalid because a variable name can not be start from a numeric value."
   ]
  },
  {
   "cell_type": "markdown",
   "id": "baa32747",
   "metadata": {},
   "source": [
    "#Q9- int()\n",
    "    str()\n",
    "    float()"
   ]
  },
  {
   "cell_type": "markdown",
   "id": "ed4b7a07",
   "metadata": {},
   "source": [
    "#10- \"i have eaten\"+99+\"burritos\" this expression causes an error because a string and an integer beacause integer can not be add. To fix this issue we have to convert 99 to a string."
   ]
  }
 ],
 "metadata": {
  "kernelspec": {
   "display_name": "Python 3 (ipykernel)",
   "language": "python",
   "name": "python3"
  },
  "language_info": {
   "codemirror_mode": {
    "name": "ipython",
    "version": 3
   },
   "file_extension": ".py",
   "mimetype": "text/x-python",
   "name": "python",
   "nbconvert_exporter": "python",
   "pygments_lexer": "ipython3",
   "version": "3.9.12"
  }
 },
 "nbformat": 4,
 "nbformat_minor": 5
}
